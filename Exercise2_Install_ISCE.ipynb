{
  "nbformat": 4,
  "nbformat_minor": 0,
  "metadata": {
    "colab": {
      "name": "Exercise2_Install_ISCE.ipynb",
      "provenance": [],
      "collapsed_sections": [],
      "toc_visible": true,
      "include_colab_link": true
    },
    "kernelspec": {
      "name": "python3",
      "display_name": "Python 3"
    },
    "accelerator": "GPU"
  },
  "cells": [
    {
      "cell_type": "markdown",
      "metadata": {
        "id": "view-in-github",
        "colab_type": "text"
      },
      "source": [
        "<a href=\"https://colab.research.google.com/github/MayerT1/FSH_Python3/blob/master/Exercise2_Install_ISCE.ipynb\" target=\"_parent\"><img src=\"https://colab.research.google.com/assets/colab-badge.svg\" alt=\"Open In Colab\"/></a>"
      ]
    },
    {
      "cell_type": "markdown",
      "metadata": {
        "id": "nYdqC79842Zc",
        "colab_type": "text"
      },
      "source": [
        "#Install ISCE using Colaboratory\n"
      ]
    },
    {
      "cell_type": "markdown",
      "metadata": {
        "id": "yuMEdvz_c9Dq",
        "colab_type": "text"
      },
      "source": [
        "#What is ISCE?"
      ]
    },
    {
      "cell_type": "markdown",
      "metadata": {
        "id": "W7q6XnOoDgEI",
        "colab_type": "text"
      },
      "source": [
        "ISCE stands for “InSAR Scientific Computing Environment software.” ISCE supports processing of Interferometric Synthetic Aperture Radar from a several space-borne satellites and one airborne sensor. "
      ]
    },
    {
      "cell_type": "markdown",
      "metadata": {
        "id": "3H5CzLlIHwoQ",
        "colab_type": "text"
      },
      "source": [
        "#Why use ISCE?"
      ]
    },
    {
      "cell_type": "markdown",
      "metadata": {
        "id": "bdLfREQgDrnQ",
        "colab_type": "text"
      },
      "source": [
        "We will use ISCE to preprocess create the interferograms we need for the FSH algorithm from ALOS PALSAR Single Look Complex (SLC) imagery. Originally funded by NASA's Earth Science Technology Office (ESTO) under the Advanced Information Systems Technology (AIST) 2008, ISCE is currently funded under the NASA-ISRO SAR (NISAR) project. Thus, this is a great tool to start using for SAR preprocessing."
      ]
    },
    {
      "cell_type": "markdown",
      "metadata": {
        "id": "um2ZvoaYEHed",
        "colab_type": "text"
      },
      "source": [
        "#Useful Links"
      ]
    },
    {
      "cell_type": "markdown",
      "metadata": {
        "id": "jQYWuP4mELOy",
        "colab_type": "text"
      },
      "source": [
        "* ISCE-2 [GitHub](https://github.com/isce-framework/isce2)\n",
        "* ISCE-2 [Conda-Forge](https://anaconda.org/conda-forge/isce2)\n",
        "* ISCE Users [Forum](http://earthdef.caltech.edu/projects/isce_forum/boards/4)\n",
        "* [Official Website](https://winsar.unavco.org/software/isce)\n",
        "* UNAVCO [Video](https://zoom.us/recording/play/lIm3JJqpElPuuvrXvFwy3PUnkc5rWnK0lyagG6DeAgbu_ESSZT9_kUgh1T39ssPm?startTime=1564416529000) on Installation Using Homebrew or Conda-forge"
      ]
    },
    {
      "cell_type": "markdown",
      "metadata": {
        "id": "ZUL5JgPxHgw4",
        "colab_type": "text"
      },
      "source": [
        "#Installation Flow"
      ]
    },
    {
      "cell_type": "markdown",
      "metadata": {
        "id": "15sm0KM8HdQ0",
        "colab_type": "text"
      },
      "source": [
        "![alt text](https://drive.google.com/uc?id=1amhhLiGKaIx4md-9gxvJNWVPaunwm4d-)"
      ]
    },
    {
      "cell_type": "markdown",
      "metadata": {
        "id": "j4MLqv3BHoqP",
        "colab_type": "text"
      },
      "source": [
        "In order to install ISCE, we will set up the Colaboratory virtual machine (VM). We will clone the required files from the ISCE-2 GitHub page into our colaboratory. Then we will install ISCE using SCons. SCons will run for about an hour before the Runtime Disconnected error appears. After closing and reopening the GitHub, we will move the `Helper` folder created during the SCons install. Then we will set required environmental varaibles and finally test the ISCE installation by calling `stripmapApp.py`, the function we will be using to preprocess our ALOS PALSAR data.\n",
        " "
      ]
    },
    {
      "cell_type": "markdown",
      "metadata": {
        "id": "Jxqy5A2mFkgW",
        "colab_type": "text"
      },
      "source": [
        "# 1. Set Up Colaboratory Virtual Machine"
      ]
    },
    {
      "cell_type": "markdown",
      "metadata": {
        "id": "lgTUOpjMF5BP",
        "colab_type": "text"
      },
      "source": [
        "Before installing ISCE, we will set up the  Virtual Machine where the code in this Colaboratory will be executed. Set up includes mounting your Google Drive and installing dependencies required by the ISCE software. "
      ]
    },
    {
      "cell_type": "markdown",
      "metadata": {
        "id": "KqxufsjEdAdX",
        "colab_type": "text"
      },
      "source": [
        "##1.1 Mount Google Drive"
      ]
    },
    {
      "cell_type": "markdown",
      "metadata": {
        "id": "M7T6zxSFdUxl",
        "colab_type": "text"
      },
      "source": [
        "In order to access your Google Drive and all of the files stored within from the colab, you need to mount your drive. When you run the following code, you will be prompted to authorize your Google account. In this section, you are also creating a symbolic pathname `content/notebooks` that represents `content/mnt/My Drive/Colab Notebooks` to circumvent issues arising from the space in `My Drive`."
      ]
    },
    {
      "cell_type": "code",
      "metadata": {
        "id": "_ha7uSqOQmqD",
        "colab_type": "code",
        "outputId": "d3d46049-1906-4c5f-f99b-95f53e66c259",
        "colab": {
          "base_uri": "https://localhost:8080/",
          "height": 547
        }
      },
      "source": [
        "import os, sys\n",
        "from google.colab import drive\n",
        "drive.mount('/content/mnt')\n",
        "nb_path = '/content/notebooks'\n",
        "os.symlink('/content/mnt/My Drive/Colab Notebooks', nb_path)\n",
        "sys.path.insert(0, nb_path)  # or append(nb_path)"
      ],
      "execution_count": 0,
      "outputs": [
        {
          "output_type": "error",
          "ename": "KeyboardInterrupt",
          "evalue": "ignored",
          "traceback": [
            "\u001b[0;31m---------------------------------------------------------------------------\u001b[0m",
            "\u001b[0;31mKeyboardInterrupt\u001b[0m                         Traceback (most recent call last)",
            "\u001b[0;32m/usr/local/lib/python3.6/dist-packages/ipykernel/kernelbase.py\u001b[0m in \u001b[0;36m_input_request\u001b[0;34m(self, prompt, ident, parent, password)\u001b[0m\n\u001b[1;32m    729\u001b[0m             \u001b[0;32mtry\u001b[0m\u001b[0;34m:\u001b[0m\u001b[0;34m\u001b[0m\u001b[0;34m\u001b[0m\u001b[0m\n\u001b[0;32m--> 730\u001b[0;31m                 \u001b[0mident\u001b[0m\u001b[0;34m,\u001b[0m \u001b[0mreply\u001b[0m \u001b[0;34m=\u001b[0m \u001b[0mself\u001b[0m\u001b[0;34m.\u001b[0m\u001b[0msession\u001b[0m\u001b[0;34m.\u001b[0m\u001b[0mrecv\u001b[0m\u001b[0;34m(\u001b[0m\u001b[0mself\u001b[0m\u001b[0;34m.\u001b[0m\u001b[0mstdin_socket\u001b[0m\u001b[0;34m,\u001b[0m \u001b[0;36m0\u001b[0m\u001b[0;34m)\u001b[0m\u001b[0;34m\u001b[0m\u001b[0;34m\u001b[0m\u001b[0m\n\u001b[0m\u001b[1;32m    731\u001b[0m             \u001b[0;32mexcept\u001b[0m \u001b[0mException\u001b[0m\u001b[0;34m:\u001b[0m\u001b[0;34m\u001b[0m\u001b[0;34m\u001b[0m\u001b[0m\n",
            "\u001b[0;32m/usr/local/lib/python3.6/dist-packages/jupyter_client/session.py\u001b[0m in \u001b[0;36mrecv\u001b[0;34m(self, socket, mode, content, copy)\u001b[0m\n\u001b[1;32m    802\u001b[0m         \u001b[0;32mtry\u001b[0m\u001b[0;34m:\u001b[0m\u001b[0;34m\u001b[0m\u001b[0;34m\u001b[0m\u001b[0m\n\u001b[0;32m--> 803\u001b[0;31m             \u001b[0mmsg_list\u001b[0m \u001b[0;34m=\u001b[0m \u001b[0msocket\u001b[0m\u001b[0;34m.\u001b[0m\u001b[0mrecv_multipart\u001b[0m\u001b[0;34m(\u001b[0m\u001b[0mmode\u001b[0m\u001b[0;34m,\u001b[0m \u001b[0mcopy\u001b[0m\u001b[0;34m=\u001b[0m\u001b[0mcopy\u001b[0m\u001b[0;34m)\u001b[0m\u001b[0;34m\u001b[0m\u001b[0;34m\u001b[0m\u001b[0m\n\u001b[0m\u001b[1;32m    804\u001b[0m         \u001b[0;32mexcept\u001b[0m \u001b[0mzmq\u001b[0m\u001b[0;34m.\u001b[0m\u001b[0mZMQError\u001b[0m \u001b[0;32mas\u001b[0m \u001b[0me\u001b[0m\u001b[0;34m:\u001b[0m\u001b[0;34m\u001b[0m\u001b[0;34m\u001b[0m\u001b[0m\n",
            "\u001b[0;32m/usr/local/lib/python3.6/dist-packages/zmq/sugar/socket.py\u001b[0m in \u001b[0;36mrecv_multipart\u001b[0;34m(self, flags, copy, track)\u001b[0m\n\u001b[1;32m    465\u001b[0m         \"\"\"\n\u001b[0;32m--> 466\u001b[0;31m         \u001b[0mparts\u001b[0m \u001b[0;34m=\u001b[0m \u001b[0;34m[\u001b[0m\u001b[0mself\u001b[0m\u001b[0;34m.\u001b[0m\u001b[0mrecv\u001b[0m\u001b[0;34m(\u001b[0m\u001b[0mflags\u001b[0m\u001b[0;34m,\u001b[0m \u001b[0mcopy\u001b[0m\u001b[0;34m=\u001b[0m\u001b[0mcopy\u001b[0m\u001b[0;34m,\u001b[0m \u001b[0mtrack\u001b[0m\u001b[0;34m=\u001b[0m\u001b[0mtrack\u001b[0m\u001b[0;34m)\u001b[0m\u001b[0;34m]\u001b[0m\u001b[0;34m\u001b[0m\u001b[0;34m\u001b[0m\u001b[0m\n\u001b[0m\u001b[1;32m    467\u001b[0m         \u001b[0;31m# have first part already, only loop while more to receive\u001b[0m\u001b[0;34m\u001b[0m\u001b[0;34m\u001b[0m\u001b[0;34m\u001b[0m\u001b[0m\n",
            "\u001b[0;32mzmq/backend/cython/socket.pyx\u001b[0m in \u001b[0;36mzmq.backend.cython.socket.Socket.recv\u001b[0;34m()\u001b[0m\n",
            "\u001b[0;32mzmq/backend/cython/socket.pyx\u001b[0m in \u001b[0;36mzmq.backend.cython.socket.Socket.recv\u001b[0;34m()\u001b[0m\n",
            "\u001b[0;32mzmq/backend/cython/socket.pyx\u001b[0m in \u001b[0;36mzmq.backend.cython.socket._recv_copy\u001b[0;34m()\u001b[0m\n",
            "\u001b[0;32m/usr/local/lib/python3.6/dist-packages/zmq/backend/cython/checkrc.pxd\u001b[0m in \u001b[0;36mzmq.backend.cython.checkrc._check_rc\u001b[0;34m()\u001b[0m\n",
            "\u001b[0;31mKeyboardInterrupt\u001b[0m: ",
            "\nDuring handling of the above exception, another exception occurred:\n",
            "\u001b[0;31mKeyboardInterrupt\u001b[0m                         Traceback (most recent call last)",
            "\u001b[0;32m<ipython-input-1-ca81aa55718a>\u001b[0m in \u001b[0;36m<module>\u001b[0;34m()\u001b[0m\n\u001b[1;32m      1\u001b[0m \u001b[0;32mimport\u001b[0m \u001b[0mos\u001b[0m\u001b[0;34m,\u001b[0m \u001b[0msys\u001b[0m\u001b[0;34m\u001b[0m\u001b[0;34m\u001b[0m\u001b[0m\n\u001b[1;32m      2\u001b[0m \u001b[0;32mfrom\u001b[0m \u001b[0mgoogle\u001b[0m\u001b[0;34m.\u001b[0m\u001b[0mcolab\u001b[0m \u001b[0;32mimport\u001b[0m \u001b[0mdrive\u001b[0m\u001b[0;34m\u001b[0m\u001b[0;34m\u001b[0m\u001b[0m\n\u001b[0;32m----> 3\u001b[0;31m \u001b[0mdrive\u001b[0m\u001b[0;34m.\u001b[0m\u001b[0mmount\u001b[0m\u001b[0;34m(\u001b[0m\u001b[0;34m'/content/mnt'\u001b[0m\u001b[0;34m)\u001b[0m\u001b[0;34m\u001b[0m\u001b[0;34m\u001b[0m\u001b[0m\n\u001b[0m\u001b[1;32m      4\u001b[0m \u001b[0mnb_path\u001b[0m \u001b[0;34m=\u001b[0m \u001b[0;34m'/content/notebooks'\u001b[0m\u001b[0;34m\u001b[0m\u001b[0;34m\u001b[0m\u001b[0m\n\u001b[1;32m      5\u001b[0m \u001b[0mos\u001b[0m\u001b[0;34m.\u001b[0m\u001b[0msymlink\u001b[0m\u001b[0;34m(\u001b[0m\u001b[0;34m'/content/mnt/My Drive/Colab Notebooks'\u001b[0m\u001b[0;34m,\u001b[0m \u001b[0mnb_path\u001b[0m\u001b[0;34m)\u001b[0m\u001b[0;34m\u001b[0m\u001b[0;34m\u001b[0m\u001b[0m\n",
            "\u001b[0;32m/usr/local/lib/python3.6/dist-packages/google/colab/drive.py\u001b[0m in \u001b[0;36mmount\u001b[0;34m(mountpoint, force_remount, timeout_ms)\u001b[0m\n\u001b[1;32m    225\u001b[0m       \u001b[0mauth_prompt\u001b[0m \u001b[0;34m=\u001b[0m \u001b[0md\u001b[0m\u001b[0;34m.\u001b[0m\u001b[0mmatch\u001b[0m\u001b[0;34m.\u001b[0m\u001b[0mgroup\u001b[0m\u001b[0;34m(\u001b[0m\u001b[0;36m1\u001b[0m\u001b[0;34m)\u001b[0m \u001b[0;34m+\u001b[0m \u001b[0;34m'\\nEnter your authorization code:\\n'\u001b[0m\u001b[0;34m\u001b[0m\u001b[0;34m\u001b[0m\u001b[0m\n\u001b[1;32m    226\u001b[0m       \u001b[0;32mwith\u001b[0m \u001b[0mopen\u001b[0m\u001b[0;34m(\u001b[0m\u001b[0mfifo\u001b[0m\u001b[0;34m,\u001b[0m \u001b[0;34m'w'\u001b[0m\u001b[0;34m)\u001b[0m \u001b[0;32mas\u001b[0m \u001b[0mfifo_file\u001b[0m\u001b[0;34m:\u001b[0m\u001b[0;34m\u001b[0m\u001b[0;34m\u001b[0m\u001b[0m\n\u001b[0;32m--> 227\u001b[0;31m         \u001b[0mfifo_file\u001b[0m\u001b[0;34m.\u001b[0m\u001b[0mwrite\u001b[0m\u001b[0;34m(\u001b[0m\u001b[0m_getpass\u001b[0m\u001b[0;34m.\u001b[0m\u001b[0mgetpass\u001b[0m\u001b[0;34m(\u001b[0m\u001b[0mauth_prompt\u001b[0m\u001b[0;34m)\u001b[0m \u001b[0;34m+\u001b[0m \u001b[0;34m'\\n'\u001b[0m\u001b[0;34m)\u001b[0m\u001b[0;34m\u001b[0m\u001b[0;34m\u001b[0m\u001b[0m\n\u001b[0m\u001b[1;32m    228\u001b[0m       \u001b[0mwrote_to_fifo\u001b[0m \u001b[0;34m=\u001b[0m \u001b[0;32mTrue\u001b[0m\u001b[0;34m\u001b[0m\u001b[0;34m\u001b[0m\u001b[0m\n\u001b[1;32m    229\u001b[0m   \u001b[0;32mif\u001b[0m \u001b[0;32mnot\u001b[0m \u001b[0mwrote_to_fifo\u001b[0m\u001b[0;34m:\u001b[0m\u001b[0;34m\u001b[0m\u001b[0;34m\u001b[0m\u001b[0m\n",
            "\u001b[0;32m/usr/local/lib/python3.6/dist-packages/ipykernel/kernelbase.py\u001b[0m in \u001b[0;36mgetpass\u001b[0;34m(self, prompt, stream)\u001b[0m\n\u001b[1;32m    686\u001b[0m             \u001b[0mself\u001b[0m\u001b[0;34m.\u001b[0m\u001b[0m_parent_ident\u001b[0m\u001b[0;34m,\u001b[0m\u001b[0;34m\u001b[0m\u001b[0;34m\u001b[0m\u001b[0m\n\u001b[1;32m    687\u001b[0m             \u001b[0mself\u001b[0m\u001b[0;34m.\u001b[0m\u001b[0m_parent_header\u001b[0m\u001b[0;34m,\u001b[0m\u001b[0;34m\u001b[0m\u001b[0;34m\u001b[0m\u001b[0m\n\u001b[0;32m--> 688\u001b[0;31m             \u001b[0mpassword\u001b[0m\u001b[0;34m=\u001b[0m\u001b[0;32mTrue\u001b[0m\u001b[0;34m,\u001b[0m\u001b[0;34m\u001b[0m\u001b[0;34m\u001b[0m\u001b[0m\n\u001b[0m\u001b[1;32m    689\u001b[0m         )\n\u001b[1;32m    690\u001b[0m \u001b[0;34m\u001b[0m\u001b[0m\n",
            "\u001b[0;32m/usr/local/lib/python3.6/dist-packages/ipykernel/kernelbase.py\u001b[0m in \u001b[0;36m_input_request\u001b[0;34m(self, prompt, ident, parent, password)\u001b[0m\n\u001b[1;32m    733\u001b[0m             \u001b[0;32mexcept\u001b[0m \u001b[0mKeyboardInterrupt\u001b[0m\u001b[0;34m:\u001b[0m\u001b[0;34m\u001b[0m\u001b[0;34m\u001b[0m\u001b[0m\n\u001b[1;32m    734\u001b[0m                 \u001b[0;31m# re-raise KeyboardInterrupt, to truncate traceback\u001b[0m\u001b[0;34m\u001b[0m\u001b[0;34m\u001b[0m\u001b[0;34m\u001b[0m\u001b[0m\n\u001b[0;32m--> 735\u001b[0;31m                 \u001b[0;32mraise\u001b[0m \u001b[0mKeyboardInterrupt\u001b[0m\u001b[0;34m\u001b[0m\u001b[0;34m\u001b[0m\u001b[0m\n\u001b[0m\u001b[1;32m    736\u001b[0m             \u001b[0;32melse\u001b[0m\u001b[0;34m:\u001b[0m\u001b[0;34m\u001b[0m\u001b[0;34m\u001b[0m\u001b[0m\n\u001b[1;32m    737\u001b[0m                 \u001b[0;32mbreak\u001b[0m\u001b[0;34m\u001b[0m\u001b[0;34m\u001b[0m\u001b[0m\n",
            "\u001b[0;31mKeyboardInterrupt\u001b[0m: "
          ]
        }
      ]
    },
    {
      "cell_type": "markdown",
      "metadata": {
        "id": "Z6MjADNW4_BI",
        "colab_type": "text"
      },
      "source": [
        "##1.2 Install Dependencies\n"
      ]
    },
    {
      "cell_type": "markdown",
      "metadata": {
        "id": "mxpi_smNHS6q",
        "colab_type": "text"
      },
      "source": [
        "Install all the relevant packages for running ISCE here. "
      ]
    },
    {
      "cell_type": "code",
      "metadata": {
        "id": "J40QNT5fVfwo",
        "colab_type": "code",
        "outputId": "02ef42f3-dd87-41bf-de08-dc2e542dc1a4",
        "colab": {
          "base_uri": "https://localhost:8080/",
          "height": 592
        }
      },
      "source": [
        "!apt update\n",
        "!apt install -y gfortran libmotif-dev libhdf5-dev libfftw3-dev libgdal-dev scons python3 cython3 python3-scipy python3-matplotlib python3-h5py python3-gdal python3-pip"
      ],
      "execution_count": 0,
      "outputs": [
        {
          "output_type": "stream",
          "text": [
            "\u001b[33m\r0% [Working]\u001b[0m\r            \rHit:1 http://ppa.launchpad.net/graphics-drivers/ppa/ubuntu bionic InRelease\n",
            "\u001b[33m\r0% [Waiting for headers] [Connecting to security.ubuntu.com (91.189.91.23)] [Co\u001b[0m\r                                                                               \rHit:2 http://archive.ubuntu.com/ubuntu bionic InRelease\n",
            "\u001b[33m\r0% [Connecting to archive.ubuntu.com (91.189.88.173)] [Connecting to security.u\u001b[0m\u001b[33m\r0% [1 InRelease gpgv 21.3 kB] [Connecting to archive.ubuntu.com (91.189.88.173)\u001b[0m\r                                                                               \rHit:3 http://ppa.launchpad.net/marutter/c2d4u3.5/ubuntu bionic InRelease\n",
            "\u001b[33m\r0% [1 InRelease gpgv 21.3 kB] [Waiting for headers] [Connecting to security.ubu\u001b[0m\r                                                                               \rHit:4 http://archive.ubuntu.com/ubuntu bionic-updates InRelease\n",
            "\u001b[33m\r0% [1 InRelease gpgv 21.3 kB] [Connecting to security.ubuntu.com (91.189.91.23)\u001b[0m\r                                                                               \rHit:5 http://archive.ubuntu.com/ubuntu bionic-backports InRelease\n",
            "\u001b[33m\r0% [1 InRelease gpgv 21.3 kB] [Connecting to security.ubuntu.com (91.189.91.23)\u001b[0m\r                                                                               \rHit:6 http://security.ubuntu.com/ubuntu bionic-security InRelease\n",
            "\u001b[33m\r                                                                               \r0% [1 InRelease gpgv 21.3 kB] [Waiting for headers] [Waiting for headers]\u001b[0m\r                                                                         \rIgn:7 https://developer.download.nvidia.com/compute/cuda/repos/ubuntu1804/x86_64  InRelease\n",
            "Hit:8 https://cloud.r-project.org/bin/linux/ubuntu bionic-cran35/ InRelease\n",
            "Ign:9 https://developer.download.nvidia.com/compute/machine-learning/repos/ubuntu1804/x86_64  InRelease\n",
            "Hit:10 https://developer.download.nvidia.com/compute/cuda/repos/ubuntu1804/x86_64  Release\n",
            "Hit:11 https://developer.download.nvidia.com/compute/machine-learning/repos/ubuntu1804/x86_64  Release\n",
            "Reading package lists... Done\n",
            "Building dependency tree       \n",
            "Reading state information... Done\n",
            "75 packages can be upgraded. Run 'apt list --upgradable' to see them.\n",
            "Reading package lists... Done\n",
            "Building dependency tree       \n",
            "Reading state information... Done\n",
            "libfftw3-dev is already the newest version (3.3.7-1).\n",
            "cython3 is already the newest version (0.26.1-0.4).\n",
            "libgdal-dev is already the newest version (2.2.3+dfsg-2).\n",
            "libhdf5-dev is already the newest version (1.10.0-patch1+docs-4).\n",
            "libmotif-dev is already the newest version (2.3.8-2build1).\n",
            "python3-gdal is already the newest version (2.2.3+dfsg-2).\n",
            "python3-h5py is already the newest version (2.7.1-2).\n",
            "python3-matplotlib is already the newest version (2.1.1-2ubuntu3).\n",
            "python3-scipy is already the newest version (0.19.1-2ubuntu1).\n",
            "scons is already the newest version (3.0.1-1).\n",
            "gfortran is already the newest version (4:7.4.0-1ubuntu2.3).\n",
            "python3 is already the newest version (3.6.7-1~18.04).\n",
            "python3-pip is already the newest version (9.0.1-2.3~ubuntu1.18.04.1).\n",
            "0 upgraded, 0 newly installed, 0 to remove and 75 not upgraded.\n"
          ],
          "name": "stdout"
        }
      ]
    },
    {
      "cell_type": "markdown",
      "metadata": {
        "id": "AbeEEwXvGWky",
        "colab_type": "text"
      },
      "source": [
        "#2. Install ISCE"
      ]
    },
    {
      "cell_type": "markdown",
      "metadata": {
        "id": "gnBNhFglGZMK",
        "colab_type": "text"
      },
      "source": [
        "Now that our VM is set up, we will install ISCE. This includes cloning the current version of ISCE from the official ISCE GitHub page and installing using [SCons](https://scons.org/), an open source software construction tool. Since the SCons tool calls itself recursively, **the `helper` folder created during the SCons install process must be moved after running SCons**. "
      ]
    },
    {
      "cell_type": "markdown",
      "metadata": {
        "id": "K7a-TLrTgTkX",
        "colab_type": "text"
      },
      "source": [
        "##2.1 Clone ISCE Files"
      ]
    },
    {
      "cell_type": "markdown",
      "metadata": {
        "id": "uV30yTf1G4i1",
        "colab_type": "text"
      },
      "source": [
        "Run the lines below to create a folder named `isce-notebook` within your colaboratory notebook folder on Google Drive. The final file structure will be `/content/notebooks/isce-notebook/`. This folder is where we will clone the files needed to install ISCE from GitHub. "
      ]
    },
    {
      "cell_type": "markdown",
      "metadata": {
        "id": "U9i8djuxG_xU",
        "colab_type": "text"
      },
      "source": [
        "Use `!ls` to view the files in your current directory. `notebooks` is your Colab notebooks folder. "
      ]
    },
    {
      "cell_type": "code",
      "metadata": {
        "id": "My2Cr59yoZxP",
        "colab_type": "code",
        "outputId": "ce7f4fb6-4bb7-4b31-b442-9416e5aee843",
        "colab": {
          "base_uri": "https://localhost:8080/",
          "height": 35
        }
      },
      "source": [
        "!ls"
      ],
      "execution_count": 0,
      "outputs": [
        {
          "output_type": "stream",
          "text": [
            "mnt  notebooks\tsample_data\n"
          ],
          "name": "stdout"
        }
      ]
    },
    {
      "cell_type": "markdown",
      "metadata": {
        "id": "urtJU4srTqJE",
        "colab_type": "text"
      },
      "source": [
        "Navigate into your notebooks folder."
      ]
    },
    {
      "cell_type": "code",
      "metadata": {
        "id": "jVNTOA5sTpSJ",
        "colab_type": "code",
        "outputId": "e15b2391-fae3-4cc4-9ca0-a6a21fcdf0e1",
        "colab": {
          "base_uri": "https://localhost:8080/",
          "height": 52
        }
      },
      "source": [
        "%cd /content/notebooks/"
      ],
      "execution_count": 0,
      "outputs": [
        {
          "output_type": "stream",
          "text": [
            "[Errno 20] Not a directory: '/content/notebooks/'\n",
            "/content\n"
          ],
          "name": "stdout"
        }
      ]
    },
    {
      "cell_type": "markdown",
      "metadata": {
        "id": "1-5Seah9kR6_",
        "colab_type": "text"
      },
      "source": [
        "Make a folder named `isce-notebook` to store the ISCE installation files."
      ]
    },
    {
      "cell_type": "code",
      "metadata": {
        "id": "1nslINDSkXqV",
        "colab_type": "code",
        "colab": {}
      },
      "source": [
        "!mkdir isce-notebook"
      ],
      "execution_count": 0,
      "outputs": []
    },
    {
      "cell_type": "markdown",
      "metadata": {
        "id": "M_jr0GG8jERu",
        "colab_type": "text"
      },
      "source": [
        "Navigate into the `isce-notebook` folder. "
      ]
    },
    {
      "cell_type": "code",
      "metadata": {
        "id": "djIGN8kFV7Lp",
        "colab_type": "code",
        "outputId": "befa1299-14c4-43fc-b25e-50b5d7e5c20c",
        "colab": {
          "base_uri": "https://localhost:8080/",
          "height": 52
        }
      },
      "source": [
        "%cd /content/notebooks/isce-notebook/"
      ],
      "execution_count": 0,
      "outputs": [
        {
          "output_type": "stream",
          "text": [
            "[Errno 2] No such file or directory: '/content/notebooks/isce-notebook/'\n",
            "/content\n"
          ],
          "name": "stdout"
        }
      ]
    },
    {
      "cell_type": "markdown",
      "metadata": {
        "id": "BLFRHd-rjRX5",
        "colab_type": "text"
      },
      "source": [
        "Clone the ISCE files from GitHub to the `isce-notebook` folder. This should only take a few moments."
      ]
    },
    {
      "cell_type": "code",
      "metadata": {
        "id": "5wRKHbIGWGIe",
        "colab_type": "code",
        "outputId": "1b8b1c80-da04-488a-c359-efe2e0754892",
        "colab": {
          "base_uri": "https://localhost:8080/",
          "height": 33
        }
      },
      "source": [
        "!git clone https://github.com/isce-framework/isce2.git"
      ],
      "execution_count": 0,
      "outputs": [
        {
          "output_type": "stream",
          "text": [
            "fatal: destination path 'isce2' already exists and is not an empty directory.\n"
          ],
          "name": "stdout"
        }
      ]
    },
    {
      "cell_type": "markdown",
      "metadata": {
        "id": "MeCB2HlkjZMF",
        "colab_type": "text"
      },
      "source": [
        "You should now have a file structure as shown below. Notice that the `isce2` folder and all of its contents are now within your `isce-notebook` folder."
      ]
    },
    {
      "cell_type": "markdown",
      "metadata": {
        "id": "wb1QAUBZJ0It",
        "colab_type": "text"
      },
      "source": [
        "![alt text](https://drive.google.com/uc?id=16-SNY-xYQ7p7U_q3ng3FMYlwFJjiGtPn)"
      ]
    },
    {
      "cell_type": "markdown",
      "metadata": {
        "id": "jDIfYju5hyyM",
        "colab_type": "text"
      },
      "source": [
        "##2.2 Create SConfigISCE File"
      ]
    },
    {
      "cell_type": "markdown",
      "metadata": {
        "id": "llWyiYd9hosI",
        "colab_type": "text"
      },
      "source": [
        "Then, run the following code block to create the `SConfigISCE` file within the isce-notebook folder. This file builds paths necessary for building ISCE. "
      ]
    },
    {
      "cell_type": "code",
      "metadata": {
        "id": "ZUbdya0DWR5o",
        "colab_type": "code",
        "colab": {}
      },
      "source": [
        "from google.colab import files\n",
        "\n",
        "with open('isce2/SConfigISCE', 'w') as f:\n",
        "  f.write(\"\"\"\n",
        "  PRJ_SCONS_BUILD=/content/notebooks/isce-notebook/isce-2.2.0/build\n",
        "  PRJ_SCONS_INSTALL=/content/notebooks/isce-notebook/isce-2.2.0/install/isce\n",
        "\n",
        "  LIBPATH=/usr/lib/x86_64-linux-gnu /usr/lib /usr/lib/x86_64-linux-gnu/hdf5/serial\n",
        "  CPPPATH=/usr/include/x86_64-linux-gnu /usr/include /usr/include/python3.6m /usr/include/hdf5/serial /usr/include/gdal\n",
        "  FORTRANPATH=/usr/include /usr/lib/gcc/x86_64-linux-gnu/7/finclude\n",
        "\n",
        "  FORTRAN=/usr/bin/gfortran\n",
        "  CC=/usr/bin/gcc\n",
        "  CXX=/usr/bin/g++\n",
        "\n",
        "  MOTIFLIBPATH = /usr/lib/x86_64-linux-gnu\n",
        "  X11LIBPATH = /usr/lib/x86_64-linux-gnu\n",
        "  MOTIFINCPATH = /usr/include/Xm\n",
        "  X11INCPATH = /usr/include/X11\n",
        "\n",
        "  ENABLE_CUDA=False\n",
        "  \"\"\")"
      ],
      "execution_count": 0,
      "outputs": []
    },
    {
      "cell_type": "markdown",
      "metadata": {
        "id": "HaGNF4pjqRHY",
        "colab_type": "text"
      },
      "source": [
        "Then, navigate into the `isce2` folder cloned from GitHub. This is where the `SConfigISCE` file was created and where ISCE will be installed."
      ]
    },
    {
      "cell_type": "code",
      "metadata": {
        "id": "SJBZLVSTWVFA",
        "colab_type": "code",
        "outputId": "fc05c6ac-292c-4d12-d887-c81933d84574",
        "colab": {
          "base_uri": "https://localhost:8080/",
          "height": 214
        }
      },
      "source": [
        "%cd isce2/\n",
        "!ls"
      ],
      "execution_count": 0,
      "outputs": [
        {
          "output_type": "stream",
          "text": [
            "[Errno 2] No such file or directory: 'isce2/'\n",
            "/content\n"
          ],
          "name": "stdout"
        },
        {
          "output_type": "error",
          "ename": "NameError",
          "evalue": "ignored",
          "traceback": [
            "\u001b[0;31m---------------------------------------------------------------------------\u001b[0m",
            "\u001b[0;31mNameError\u001b[0m                                 Traceback (most recent call last)",
            "\u001b[0;32m<ipython-input-1-ed22c800368b>\u001b[0m in \u001b[0;36m<module>\u001b[0;34m()\u001b[0m\n\u001b[1;32m      1\u001b[0m \u001b[0mget_ipython\u001b[0m\u001b[0;34m(\u001b[0m\u001b[0;34m)\u001b[0m\u001b[0;34m.\u001b[0m\u001b[0mmagic\u001b[0m\u001b[0;34m(\u001b[0m\u001b[0;34m'cd isce2/'\u001b[0m\u001b[0;34m)\u001b[0m\u001b[0;34m\u001b[0m\u001b[0;34m\u001b[0m\u001b[0m\n\u001b[0;32m----> 2\u001b[0;31m \u001b[0mls\u001b[0m\u001b[0;34m\u001b[0m\u001b[0;34m\u001b[0m\u001b[0m\n\u001b[0m",
            "\u001b[0;31mNameError\u001b[0m: name 'ls' is not defined"
          ]
        }
      ]
    },
    {
      "cell_type": "markdown",
      "metadata": {
        "id": "waowztCvh1K0",
        "colab_type": "text"
      },
      "source": [
        "Install ISCE using the SCons command. This will use the information in the `SConfig` set up file to install ISCE. This will run for about an hour before throwing the **Runtime Disconnect** error shown below. Once the Colaboratory times out, **close the colab completely**, then reopen. Once you've reopened the colab, check to make sure your Google Drive is still connected. If it is not, rerun the step **1.1 Mount Google Drive**. "
      ]
    },
    {
      "cell_type": "markdown",
      "metadata": {
        "id": "7XbwQW2U36n8",
        "colab_type": "text"
      },
      "source": [
        "![alt text](https://drive.google.com/uc?id=1prQ53gV1MHKfaoagSoZR2zLL7f0qdn9N)"
      ]
    },
    {
      "cell_type": "code",
      "metadata": {
        "id": "VP1Lhi1NWvij",
        "colab_type": "code",
        "outputId": "d00c33a9-4861-4a64-a158-7cc2509db805",
        "colab": {
          "base_uri": "https://localhost:8080/",
          "height": 1000
        }
      },
      "source": [
        "import os, sys\n",
        "os.environ['SCONS_CONFIG_DIR'] = \"/content/notebooks/isce-notebook/isce2\"\n",
        "os.environ['PYTHONPATH'] = \"/content/notebooks/isce-notebook/isce2/configuration\"\n",
        "!scons install --warn=no-all --setupfile=SConfigISCE"
      ],
      "execution_count": 0,
      "outputs": [
        {
          "output_type": "stream",
          "text": [
            "scons: Reading SConscript files ...\n",
            "Building with scons from python2\n",
            "Checking for C header file Python.h... (cached) yes\n",
            "Checking for C header file fftw3.h... (cached) yes\n",
            "Checking for C header file hdf5.h... (cached) yes\n",
            "Checking for C header file X11/Xlib.h... (cached) yes\n",
            "Checking for C header file Xm/Xm.h... (cached) yes\n",
            "Checking for C header file omp.h... (cached) yes\n",
            "Checking for C library hdf5... (cached) yes\n",
            "Checking for C library fftw3f... (cached) yes\n",
            "Checking for C library Xm... (cached) yes\n",
            "Checking for C library Xt... (cached) yes\n",
            "Checking for F include fftw3 ... yes\n",
            "GDAL version: 2.2.3\n",
            "\n",
            "Checking for C++ header file gdal_priv.h... (cached) yes\n",
            "Checking for C library gdal... (cached) yes\n",
            "Scons appears to find everything needed for installation\n",
            "Checking whether cython3 program exists.../usr/bin/cython3\n",
            "User did not request CUDA support. Add ENABLE_CUDA = True to SConfigISCE to enable CUDA support\n",
            "Building with scons from python2\n",
            "Checking for F include fftw3 ... yes\n",
            "GDAL version: 2.2.3\n",
            "\n",
            "Scons appears to find everything needed for installation\n",
            "User did not request CUDA support. Add ENABLE_CUDA = True to SConfigISCE to enable CUDA support\n",
            "python3: can't open file '/content/mnt/My': [Errno 2] No such file or directory\n",
            "python3: can't open file '/content/mnt/My': [Errno 2] No such file or directory\n",
            "python3: can't open file '/content/mnt/My': [Errno 2] No such file or directory\n",
            "python3: can't open file '/content/mnt/My': [Errno 2] No such file or directory\n",
            "python3: can't open file '/content/mnt/My': [Errno 2] No such file or directory\n",
            "python3: can't open file '/content/mnt/My': [Errno 2] No such file or directory\n",
            "python3: can't open file '/content/mnt/My': [Errno 2] No such file or directory\n",
            "python3: can't open file '/content/mnt/My': [Errno 2] No such file or directory\n",
            "python3: can't open file '/content/mnt/My': [Errno 2] No such file or directory\n",
            "python3: can't open file '/content/mnt/My': [Errno 2] No such file or directory\n",
            "python3: can't open file '/content/mnt/My': [Errno 2] No such file or directory\n",
            "python3: can't open file '/content/mnt/My': [Errno 2] No such file or directory\n",
            "python3: can't open file '/content/mnt/My': [Errno 2] No such file or directory\n",
            "python3: can't open file '/content/mnt/My': [Errno 2] No such file or directory\n",
            "python3: can't open file '/content/mnt/My': [Errno 2] No such file or directory\n",
            "python3: can't open file '/content/mnt/My': [Errno 2] No such file or directory\n",
            "python3: can't open file '/content/mnt/My': [Errno 2] No such file or directory\n",
            "python3: can't open file '/content/mnt/My': [Errno 2] No such file or directory\n",
            "python3: can't open file '/content/mnt/My': [Errno 2] No such file or directory\n",
            "python3: can't open file '/content/mnt/My': [Errno 2] No such file or directory\n",
            "python3: can't open file '/content/mnt/My': [Errno 2] No such file or directory\n",
            "python3: can't open file '/content/mnt/My': [Errno 2] No such file or directory\n",
            "python3: can't open file '/content/mnt/My': [Errno 2] No such file or directory\n",
            "python3: can't open file '/content/mnt/My': [Errno 2] No such file or directory\n",
            "python3: can't open file '/content/mnt/My': [Errno 2] No such file or directory\n",
            "python3: can't open file '/content/mnt/My': [Errno 2] No such file or directory\n",
            "python3: can't open file '/content/mnt/My': [Errno 2] No such file or directory\n",
            "python3: can't open file '/content/mnt/My': [Errno 2] No such file or directory\n",
            "cython3 found.\n",
            "Install file: \"/content/notebooks/isce-notebook/isce-2.2.0/build/components/stdproc/stdproc/resamp/bindings/resamp.abi3.so\" as \"/content/notebooks/isce-notebook/isce-2.2.0/install/isce/components/stdproc/stdproc/resamp/resamp.abi3.so\"\n",
            "python3: can't open file '/content/mnt/My': [Errno 2] No such file or directory\n",
            "python3: can't open file '/content/mnt/My': [Errno 2] No such file or directory\n",
            "python3: can't open file '/content/mnt/My': [Errno 2] No such file or directory\n",
            "Checking for C++ header file hdf5.h... (cached) yes\n",
            "Checking for C library hdf5... (cached) yes\n",
            "python3: can't open file '/content/mnt/My': [Errno 2] No such file or directory\n",
            "python3: can't open file '/content/mnt/My': [Errno 2] No such file or directory\n",
            "python3: can't open file '/content/mnt/My': [Errno 2] No such file or directory\n",
            "python3: can't open file '/content/mnt/My': [Errno 2] No such file or directory\n",
            "python3: can't open file '/content/mnt/My': [Errno 2] No such file or directory\n",
            "python3: can't open file '/content/mnt/My': [Errno 2] No such file or directory\n",
            "python3: can't open file '/content/mnt/My': [Errno 2] No such file or directory\n",
            "python3: can't open file '/content/mnt/My': [Errno 2] No such file or directory\n",
            "python3: can't open file '/content/mnt/My': [Errno 2] No such file or directory\n",
            "python3: can't open file '/content/mnt/My': [Errno 2] No such file or directory\n",
            "python3: can't open file '/content/mnt/My': [Errno 2] No such file or directory\n",
            "python3: can't open file '/content/mnt/My': [Errno 2] No such file or directory\n",
            "python3: can't open file '/content/mnt/My': [Errno 2] No such file or directory\n",
            "python3: can't open file '/content/mnt/My': [Errno 2] No such file or directory\n",
            "python3: can't open file '/content/mnt/My': [Errno 2] No such file or directory\n",
            "python3: can't open file '/content/mnt/My': [Errno 2] No such file or directory\n",
            "python3: can't open file '/content/mnt/My': [Errno 2] No such file or directory\n",
            "python3: can't open file '/content/mnt/My': [Errno 2] No such file or directory\n",
            "python3: can't open file '/content/mnt/My': [Errno 2] No such file or directory\n",
            "python3: can't open file '/content/mnt/My': [Errno 2] No such file or directory\n",
            "python3: can't open file '/content/mnt/My': [Errno 2] No such file or directory\n",
            "python3: can't open file '/content/mnt/My': [Errno 2] No such file or directory\n",
            "python3: can't open file '/content/mnt/My': [Errno 2] No such file or directory\n",
            "python3: can't open file '/content/mnt/My': [Errno 2] No such file or directory\n",
            "python3: can't open file '/content/mnt/My': [Errno 2] No such file or directory\n",
            "cython3 found.\n",
            "scons: done reading SConscript files.\n",
            "scons: Building targets ...\n",
            "scons: `install' is up to date.\n",
            "scons: done building targets.\n"
          ],
          "name": "stdout"
        }
      ]
    },
    {
      "cell_type": "markdown",
      "metadata": {
        "id": "qHXCyJ14k9Gk",
        "colab_type": "text"
      },
      "source": [
        "You should now have the file structure as shown below. Notice that there is now an `isce-2.2.0 `folder with a `helper` folder within `isce-2.2.0/build`. "
      ]
    },
    {
      "cell_type": "markdown",
      "metadata": {
        "id": "Hdtel_MV3WBM",
        "colab_type": "text"
      },
      "source": [
        "![alt text](https://drive.google.com/uc?id=16hi3WmBcLqvtGe4gcX_uGJjJzroZWmpl)"
      ]
    },
    {
      "cell_type": "markdown",
      "metadata": {
        "id": "F3HQDn3kWeiz",
        "colab_type": "text"
      },
      "source": [
        "##2.3 Move `helper` Folder"
      ]
    },
    {
      "cell_type": "markdown",
      "metadata": {
        "id": "ptHPazPDW428",
        "colab_type": "text"
      },
      "source": [
        "Since the SCons tool calls itself recursively, we must move `helper` manually. Within your table of contents, navigate to `notebooks/isce-notebook/isce-2.2.0/build/`. Select the `helper` folder and move it to the `notebooks/isce-notebook/isce-2.2.0/install/isce` folder. You should now have the file structure as shown below.  "
      ]
    },
    {
      "cell_type": "markdown",
      "metadata": {
        "id": "RekFfwGX4kkA",
        "colab_type": "text"
      },
      "source": [
        "![alt text](https://drive.google.com/uc?id=1rKDH89ZHxfeIK3YxIEwYpNtnlKjQdrzU)"
      ]
    },
    {
      "cell_type": "markdown",
      "metadata": {
        "id": "2Dq6eL44KsUi",
        "colab_type": "text"
      },
      "source": [
        "#3. Run ISCE"
      ]
    },
    {
      "cell_type": "markdown",
      "metadata": {
        "id": "FeL3XZX5K1IL",
        "colab_type": "text"
      },
      "source": [
        "Now let's run ISCE! We will set the required environment variables and then test the ISCE installation."
      ]
    },
    {
      "cell_type": "markdown",
      "metadata": {
        "id": "filiwljy_swm",
        "colab_type": "text"
      },
      "source": [
        "##3.1 Set Environment Variables"
      ]
    },
    {
      "cell_type": "markdown",
      "metadata": {
        "id": "v1NR3E-eFCf7",
        "colab_type": "text"
      },
      "source": [
        "ISCE needs four environment variables set in order to run. "
      ]
    },
    {
      "cell_type": "code",
      "metadata": {
        "id": "8Td74JJWgj3o",
        "colab_type": "code",
        "colab": {}
      },
      "source": [
        "import os\n",
        "os.environ['ISCE_ROOT'] = \"/content/notebooks/isce-notebook/isce-2.2.0/install\"\n",
        "os.environ['ISCE_HOME'] = \"/content/notebooks/isce-notebook/isce-2.2.0/install/isce\"\n",
        "os.environ['PATH'] = \"/content/notebooks/isce-notebook/isce-2.2.0/install/isce/bin:/content/notebooks/isce-notebook/isce-2.2.0/install/isce/applications:/usr/bin/env:/usr/local/nvidia/bin:/usr/local/cuda/bin:/usr/local/sbin:/usr/local/bin:/usr/sbin:/usr/bin:/sbin:/bin:/tools/node/bin:/tools/google-cloud-sdk/bin:/opt/bin\"\n",
        "os.environ['PYTHONPATH']= \"/content/notebooks/isce-notebook/isce-2.2.0/install:/content/notebooks/isce-notebook/isce-2.2.0/install/isce/applications:/content/notebooks/isce-notebook/isce-2.2.0/install/isce/components\""
      ],
      "execution_count": 0,
      "outputs": []
    },
    {
      "cell_type": "markdown",
      "metadata": {
        "id": "_YJol3qbB76k",
        "colab_type": "text"
      },
      "source": [
        "Use the personal working directory to confirm that you are within the `isce-2 `folder."
      ]
    },
    {
      "cell_type": "code",
      "metadata": {
        "id": "uekqwAqGoj78",
        "colab_type": "code",
        "outputId": "9e5144df-3cb9-403f-c1bf-8a7188f0ff10",
        "colab": {
          "base_uri": "https://localhost:8080/",
          "height": 121
        }
      },
      "source": [
        "!pwd"
      ],
      "execution_count": 0,
      "outputs": [
        {
          "output_type": "stream",
          "text": [
            "applications\t defaults     LICENSE\t\t  release_history.pyc  setup\n",
            "components\t docker       LICENSE-2.0.html\t  release_note.txt     test\n",
            "config.log\t docs\t      LICENSE-2.0.txt\t  schema\n",
            "configuration\t examples     license.py\t  SConfigISCE\n",
            "contrib\t\t __init__.py  README.md\t\t  scons_tools\n",
            "CONTRIBUTING.md  library      release_history.py  SConstruct\n"
          ],
          "name": "stdout"
        }
      ]
    },
    {
      "cell_type": "markdown",
      "metadata": {
        "id": "IpgeByhaoW4A",
        "colab_type": "text"
      },
      "source": [
        "If you aren't within the isce2 folder,  please use the change directory command below to navigate there. "
      ]
    },
    {
      "cell_type": "code",
      "metadata": {
        "id": "j4-uZPREr-D_",
        "colab_type": "code",
        "outputId": "efe2dfa0-ef8e-415a-b450-808834f46cca",
        "colab": {
          "base_uri": "https://localhost:8080/",
          "height": 35
        }
      },
      "source": [
        "%cd notebooks/isce-notebook/isce2/"
      ],
      "execution_count": 0,
      "outputs": [
        {
          "output_type": "stream",
          "text": [
            "/content/mnt/My Drive/Colab Notebooks/isce-notebook/isce2\n"
          ],
          "name": "stdout"
        }
      ]
    },
    {
      "cell_type": "markdown",
      "metadata": {
        "id": "aso3CneYsZRW",
        "colab_type": "text"
      },
      "source": [
        "Check your environment `$PATH` variables."
      ]
    },
    {
      "cell_type": "code",
      "metadata": {
        "id": "0WUpoMTvnba9",
        "colab_type": "code",
        "outputId": "d5a9cd4b-f9fc-4dbd-d8f9-1586f3dc6d28",
        "colab": {
          "base_uri": "https://localhost:8080/",
          "height": 55
        }
      },
      "source": [
        "!echo $PATH"
      ],
      "execution_count": 0,
      "outputs": [
        {
          "output_type": "stream",
          "text": [
            "/content/notebooks/isce-notebook/isce-2.2.0/install/isce/bin:/content/notebooks/isce-notebook/isce-2.2.0/install/isce/applications:/usr/bin/env:/usr/local/nvidia/bin:/usr/local/cuda/bin:/usr/local/sbin:/usr/local/bin:/usr/sbin:/usr/bin:/sbin:/bin:/tools/node/bin:/tools/google-cloud-sdk/bin:/opt/bin\n"
          ],
          "name": "stdout"
        }
      ]
    },
    {
      "cell_type": "markdown",
      "metadata": {
        "id": "d7ULB_hwmFXK",
        "colab_type": "text"
      },
      "source": [
        "##3.2 Test the ISCE installation"
      ]
    },
    {
      "cell_type": "markdown",
      "metadata": {
        "id": "si9grOvHmJod",
        "colab_type": "text"
      },
      "source": [
        "For this exercise, we will use `stripmapApp.py` to create interferograms from Single Look Complex (SLC) scenes from ALOS PALSAR. You can review the data and objectives of Exercise 2 [here](https://docs.google.com/presentation/d/1BP_EC6AZ4wonHluoIeoP_R-ChchMf970Il1Ie70gZJg/edit?usp=sharing). Let's check our installation of ISCE and learn more by calling `help` for `stripmapApp.py`."
      ]
    },
    {
      "cell_type": "code",
      "metadata": {
        "id": "-uoTV65vhTRx",
        "colab_type": "code",
        "outputId": "77c63941-5c07-4c41-ceca-5cc4daef618d",
        "colab": {
          "base_uri": "https://localhost:8080/",
          "height": 1000
        }
      },
      "source": [
        "!python3 $ISCE_HOME/applications/stripmapApp.py --help"
      ],
      "execution_count": 0,
      "outputs": [
        {
          "output_type": "stream",
          "text": [
            "This is the Open Source version of ISCE.\n",
            "Some of the workflows depend on a separate licensed package.\n",
            "To obtain the licensed package, please make a request for ISCE\n",
            "through the website: https://download.jpl.nasa.gov/ops/request/index.cfm.\n",
            "Alternatively, if you are a member, or can become a member of WinSAR\n",
            "you may be able to obtain access to a version of the licensed sofware at\n",
            "https://winsar.unavco.org/software/isce\n",
            "2019-11-08 22:04:45,711 - isce.insar - INFO - ISCE VERSION = 2.3, RELEASE_SVN_REVISION = 2531,RELEASE_DATE = 20190112, CURRENT_SVN_REVISION = Unknown\n",
            "ISCE VERSION = 2.3, RELEASE_SVN_REVISION = 2531,RELEASE_DATE = 20190112, CURRENT_SVN_REVISION = Unknown\n",
            "\n",
            "    Insar Application:\n",
            "    Implements InSAR processing flow for a pair of scenes from\n",
            "    sensor raw data to geocoded, flattened interferograms.\n",
            "    \n",
            "The currently supported sensors are:  ['ALOS', 'ALOS2', 'ALOS_SLC', 'COSMO_SKYMED', 'COSMO_SKYMED_SLC', 'ENVISAT', 'ENVISAT_SLC', 'ERS', 'ERS_ENVISAT', 'ERS_ENVISAT_SLC', 'ERS_SLC', 'ICEYE_SLC', 'KOMPSAT5', 'RADARSAT1', 'RADARSAT2', 'RISAT1', 'RISAT1_SLC', 'ROI_PAC', 'SENTINEL1', 'SICD_RGZERO', 'TERRASARX', 'UAVSAR_HDF5_SLC', 'UAVSAR_POLSAR', 'UAVSAR_RPI', 'UAVSAR_STACK']\n",
            "\n",
            "Usages: \n",
            "stripmapApp.py <input-file.xml>\n",
            "stripmapApp.py --steps\n",
            "stripmapApp.py --help\n",
            "stripmapApp.py --help --steps\n",
            "\n",
            "\n",
            "See the table of configurable parameters listed \n",
            "below for a list of parameters that may be specified in the\n",
            "input file.  See example input xml files in the isce 'examples'\n",
            "directory.  Read about the input file in the ISCE.pdf document.\n",
            "\n",
            "The user configurable inputs are given in the following table.\n",
            "Those inputs that are of type 'component' are also listed in\n",
            "table of facilities below with additional information.\n",
            "To configure the parameters, enter the desired value in the\n",
            "input file using a property tag with name = to the name\n",
            "given in the table.\n",
            "name                        type       mandatory  doc                           \n",
            "=========================== ========== ========== ==============================\n",
            "azimuthlooks                int        False      Number of azimuth looks       \n",
            "correlation_method          str        False      Select coherence estimation   \n",
            "                                                  method: cchz=cchz_wave        \n",
            "                                                  phase_gradient=phase gradient \n",
            "demfilename                 str        False      Filename of the DEM init file \n",
            "demstitcher                 component  False      Object that based on the frame\n",
            "                                                  bounding boxes creates a DEM  \n",
            "densesearchheight           int        False      N/A                           \n",
            "densesearchwidth            int        False      N/A                           \n",
            "denseskipheight             int        False      N/A                           \n",
            "denseskipwidth              int        False      N/A                           \n",
            "densewindowheight           int        False      N/A                           \n",
            "densewindowwidth            int        False      N/A                           \n",
            "dispersivefiltercoherenceth float      False      Coherence threshold to        \n",
            "reshold                                           generate a mask file which    \n",
            "                                                  gets used in the iterative    \n",
            "                                                  filtering of the dispersive   \n",
            "                                                  and non-disperive phase       \n",
            "dispersivefilterkernelrotat float      False      kernel rotation angle for the \n",
            "ion                                               Gaussian low-pass filtering of\n",
            "                                                  the dispersive and            \n",
            "                                                  non-disperive phase           \n",
            "dispersivefilterkernelsigma float      False      kernel sigma_x for the        \n",
            "_x                                                Gaussian low-pass filtering of\n",
            "                                                  the dispersive and            \n",
            "                                                  non-disperive phase           \n",
            "dispersivefilterkernelsigma float      False      kernel sigma_y for the        \n",
            "_y                                                Gaussian low-pass filtering of\n",
            "                                                  the dispersive and            \n",
            "                                                  non-disperive phase           \n",
            "dispersivefilterkernelx-siz float      False      kernel x-size for the Gaussian\n",
            "e                                                 low-pass filtering of the     \n",
            "                                                  dispersive and non-disperive  \n",
            "                                                  phase                         \n",
            "dispersivefilterkernely-siz float      False      kernel y-size for the Gaussian\n",
            "e                                                 low-pass filtering of the     \n",
            "                                                  dispersive and non-disperive  \n",
            "                                                  phase                         \n",
            "dispersivefiltermasktype    str        False      The type of mask for the      \n",
            "                                                  iterative low-pass filtering  \n",
            "                                                  of the estimated dispersive   \n",
            "                                                  phase. If method is coherence,\n",
            "                                                  then a mask based on coherence\n",
            "                                                  files of low-band and sub-band\n",
            "                                                  interferograms is generated   \n",
            "                                                  using the mask coherence      \n",
            "                                                  thresold which can be also    \n",
            "                                                  setup. If method is           \n",
            "                                                  connected_components, then    \n",
            "                                                  mask is formed based on       \n",
            "                                                  connected component files with\n",
            "                                                  non zero values. If method is \n",
            "                                                  phase, then pixels with zero  \n",
            "                                                  phase values in unwrapped     \n",
            "                                                  sub-band interferograms are   \n",
            "                                                  masked out.                   \n",
            "dispersivefilternumberofite int        False      number of iterations for the  \n",
            "rations                                           iterative low-pass filtering  \n",
            "                                                  of the dispersive and         \n",
            "                                                  non-disperive phase           \n",
            "dodenseoffsets              bool       False      N/A                           \n",
            "dodispersive                bool       False      N/A                           \n",
            "dorubbersheetingazimuth     bool       False      N/A                           \n",
            "dorubbersheetingrange       bool       False      N/A                           \n",
            "dosplitspectrum             bool       False      N/A                           \n",
            "dounwrap                    bool       False      True if unwrapping is desired.\n",
            "                                                  To be unsed in combination    \n",
            "                                                  with UNWRAPPER_NAME.          \n",
            "dounwrap2stage              bool       False      True if unwrapping is desired.\n",
            "                                                  To be unsed in combination    \n",
            "                                                  with UNWRAPPER_NAME.          \n",
            "family                      str        False      Instance family name          \n",
            "filterstrength              float      False      N/A                           \n",
            "geocodeboundingbox          float      False      Bounding box for geocoding -  \n",
            "                                                  South, North, West, East in   \n",
            "                                                  degrees                       \n",
            "geocodelist                 str        False      List of products to geocode.  \n",
            "geoposting                  float      False      Output posting for geocoded   \n",
            "                                                  images in degrees (latitude = \n",
            "                                                  longitude)                    \n",
            "heightrange                 float      False      Altitude range in scene for   \n",
            "                                                  cropping                      \n",
            "insar                       component  False      InsarProc object              \n",
            "master                      component  False      Master raw data component     \n",
            "masterdopplermethod         str        False      Doppler calculation           \n",
            "                                                  method.Choices: 'useDOPIQ',   \n",
            "                                                  'useDefault'.                 \n",
            "mastersensorname            str        True       Master sensor name if mixing  \n",
            "                                                  sensors                       \n",
            "name                        str        False      Instance name                 \n",
            "offsetgeocodelist           type       False      List of offset-specific files \n",
            "                                                  to geocode                    \n",
            "pickledumpdirectory         str        False      If steps is used, the         \n",
            "                                                  directory in which to store   \n",
            "                                                  pickle objects.               \n",
            "pickleloaddirectory         str        False      If steps is used, the         \n",
            "                                                  directory from which to       \n",
            "                                                  retrieve pickle objects.      \n",
            "posting                     int        False      posting for interferogram     \n",
            "rangelooks                  int        False      Number of range looks         \n",
            "regionofinterest            float      False      Region of interest - South,   \n",
            "                                                  North, West, East in degrees  \n",
            "renderer                    str        True       Format in which the data is   \n",
            "                                                  serialized when using steps.  \n",
            "                                                  Options are xml (default) or  \n",
            "                                                  pickle.                       \n",
            "rubbersheetfiltersize       int        False      N/A                           \n",
            "rubbersheetsnrthreshold     float      False      N/A                           \n",
            "rununwrapper                component  False      Unwrapping module             \n",
            "rununwrapper2stage          component  False      Unwrapping module             \n",
            "sensorname                  str        False      Sensor name for both master   \n",
            "                                                  and slave                     \n",
            "slave                       component  False      Slave raw data component      \n",
            "slavedopplermethod          str        False      Doppler calculation method.   \n",
            "                                                  Choices:                      \n",
            "                                                  'useDOPIQ','useDefault'.      \n",
            "slavesensorname             str        True       Slave sensor name if mixing   \n",
            "                                                  sensors                       \n",
            "solver_2stage               str        False      Linear Programming Solver for \n",
            "                                                  2Stage; Options: pulp, gurobi,\n",
            "                                                  glpk; Used only for Redundant \n",
            "                                                  Arcs                          \n",
            "unwrapper2stagename         str        False      2 Stage Unwrapping method to  \n",
            "                                                  use. Available: MCF, REDARC0, \n",
            "                                                  REDARC1, REDARC2              \n",
            "unwrappername               str        False      Unwrapping method to use. To  \n",
            "                                                  be used in combination with   \n",
            "                                                  UNWRAP.                       \n",
            "usehighresolutiondemonly    int        False      If True and a dem is not      \n",
            "                                                  specified in input, it will   \n",
            "                                                  only download the SRTM highest\n",
            "                                                  resolution dem if it is       \n",
            "                                                  available and fill the missing\n",
            "                                                  portion with null values      \n",
            "                                                  (typically -32767).           \n",
            "\n",
            "\n",
            "The configurable facilities are given in the following table.\n",
            "Enter the component parameter values for any of these facilities in the\n",
            "input file using a component tag with name = to the name given in\n",
            "the table. The configurable parameters for a facility are entered with \n",
            "property tags inside the component tag. Examples of the configurable\n",
            "parameters are available in the examples/inputs directory.\n",
            "For more help on a given facility run\n",
            "iscehelp.py -t type\n",
            "where type (if available) is the second entry in the table\n",
            "\n",
            "name                 type           \n",
            "                                    \n",
            "==================== ===============\n",
            "demstitcher          N/A            \n",
            "insar                N/A            \n",
            "master               N/A            \n",
            "rununwrapper         N/A            \n",
            "rununwrapper2stage   N/A            \n",
            "slave                N/A            \n"
          ],
          "name": "stdout"
        }
      ]
    },
    {
      "cell_type": "markdown",
      "metadata": {
        "id": "GKy-J7zymw4C",
        "colab_type": "text"
      },
      "source": [
        "After running the code block above, you should see a brief description of the ISCE software and InSAR application, in addition to a table of configurable parameters as show below."
      ]
    },
    {
      "cell_type": "markdown",
      "metadata": {
        "id": "ZFdgaco2ptsV",
        "colab_type": "text"
      },
      "source": [
        "![alt text](https://drive.google.com/uc?id=1YUmSHl2XL3n2cDb7PlPVS5pmSbuI9IjC)"
      ]
    },
    {
      "cell_type": "markdown",
      "metadata": {
        "id": "z1aIc_onIUis",
        "colab_type": "text"
      },
      "source": [
        "#4. Next Steps"
      ]
    },
    {
      "cell_type": "markdown",
      "metadata": {
        "id": "X471LPg9IYu0",
        "colab_type": "text"
      },
      "source": [
        "Next we will preprocess Single Look Complex (SLC) data from ALOS PALSAR using ISCE. Our output will be a geocoded interferogram. For this step, please continue to the Exercise2_Preprocess_ISCE Colab."
      ]
    }
  ]
}