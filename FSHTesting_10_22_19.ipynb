{
  "nbformat": 4,
  "nbformat_minor": 0,
  "metadata": {
    "colab": {
      "name": "FSHTesting_10_22_19.ipynb",
      "provenance": [],
      "collapsed_sections": [],
      "include_colab_link": true
    },
    "kernelspec": {
      "name": "python3",
      "display_name": "Python 3"
    }
  },
  "cells": [
    {
      "cell_type": "markdown",
      "metadata": {
        "id": "view-in-github",
        "colab_type": "text"
      },
      "source": [
        "<a href=\"https://colab.research.google.com/github/MayerT1/FSH_Python3/blob/master/FSHTesting_10_22_19.ipynb\" target=\"_parent\"><img src=\"https://colab.research.google.com/assets/colab-badge.svg\" alt=\"Open In Colab\"/></a>"
      ]
    },
    {
      "cell_type": "code",
      "metadata": {
        "id": "tHpes7XXoE1y",
        "colab_type": "code",
        "outputId": "8d5727d9-bcbd-4ee8-dff3-de2dc0d87163",
        "colab": {
          "base_uri": "https://localhost:8080/",
          "height": 124
        }
      },
      "source": [
        "!git clone https://github.com/MayerT1/FSH_Python3.git"
      ],
      "execution_count": 0,
      "outputs": [
        {
          "output_type": "stream",
          "text": [
            "Cloning into 'FSH_Python3'...\n",
            "remote: Enumerating objects: 47, done.\u001b[K\n",
            "remote: Counting objects: 100% (47/47), done.\u001b[K\n",
            "remote: Compressing objects: 100% (46/46), done.\u001b[K\n",
            "remote: Total 47 (delta 9), reused 0 (delta 0), pack-reused 0\u001b[K\n",
            "Unpacking objects: 100% (47/47), done.\n"
          ],
          "name": "stdout"
        }
      ]
    },
    {
      "cell_type": "code",
      "metadata": {
        "id": "0_Xahly3oUli",
        "colab_type": "code",
        "outputId": "7b88649a-9250-4fa7-dae3-c5bbfaa31f98",
        "colab": {
          "base_uri": "https://localhost:8080/",
          "height": 124
        }
      },
      "source": [
        "!git clone https://github.com/MayerT1/FSH_data.git"
      ],
      "execution_count": 0,
      "outputs": [
        {
          "output_type": "stream",
          "text": [
            "Cloning into 'FSH_data'...\n",
            "remote: Enumerating objects: 14, done.\u001b[K\n",
            "remote: Counting objects:   7% (1/14)\u001b[K\rremote: Counting objects:  14% (2/14)\u001b[K\rremote: Counting objects:  21% (3/14)\u001b[K\rremote: Counting objects:  28% (4/14)\u001b[K\rremote: Counting objects:  35% (5/14)\u001b[K\rremote: Counting objects:  42% (6/14)\u001b[K\rremote: Counting objects:  50% (7/14)\u001b[K\rremote: Counting objects:  57% (8/14)\u001b[K\rremote: Counting objects:  64% (9/14)\u001b[K\rremote: Counting objects:  71% (10/14)\u001b[K\rremote: Counting objects:  78% (11/14)\u001b[K\rremote: Counting objects:  85% (12/14)\u001b[K\rremote: Counting objects:  92% (13/14)\u001b[K\rremote: Counting objects: 100% (14/14)\u001b[K\rremote: Counting objects: 100% (14/14), done.\u001b[K\n",
            "remote: Compressing objects: 100% (12/12), done.\u001b[K\n",
            "remote: Total 14 (delta 2), reused 0 (delta 0), pack-reused 0\u001b[K\n",
            "Unpacking objects: 100% (14/14), done.\n"
          ],
          "name": "stdout"
        }
      ]
    },
    {
      "cell_type": "code",
      "metadata": {
        "id": "M-UTE_iFovED",
        "colab_type": "code",
        "outputId": "03113a76-56bb-48ba-f955-fa71011844fb",
        "colab": {
          "base_uri": "https://localhost:8080/",
          "height": 35
        }
      },
      "source": [
        "!ls"
      ],
      "execution_count": 0,
      "outputs": [
        {
          "output_type": "stream",
          "text": [
            "FSH_data  FSH_Python3  sample_data\n"
          ],
          "name": "stdout"
        }
      ]
    },
    {
      "cell_type": "code",
      "metadata": {
        "id": "ytvrSXuJoxg3",
        "colab_type": "code",
        "outputId": "b825c577-401d-4c06-ca25-7068dc42d596",
        "colab": {
          "base_uri": "https://localhost:8080/",
          "height": 35
        }
      },
      "source": [
        "%cd FSH_Python3/"
      ],
      "execution_count": 0,
      "outputs": [
        {
          "output_type": "stream",
          "text": [
            "/content/FSH_Python3\n"
          ],
          "name": "stdout"
        }
      ]
    },
    {
      "cell_type": "code",
      "metadata": {
        "id": "F4_DxQtLo6R6",
        "colab_type": "code",
        "outputId": "5baecc86-2bff-4d07-e78b-41b205dd3baf",
        "colab": {
          "base_uri": "https://localhost:8080/",
          "height": 337
        }
      },
      "source": [
        "!ls"
      ],
      "execution_count": 0,
      "outputs": [
        {
          "output_type": "stream",
          "text": [
            "arc_sinc.py\t\t\t   intermediate.py\n",
            "auto_mosaicking_new.py\t\t   intermediate_self.py\n",
            "auto_tree_height_many.py\t   LICENSE\n",
            "auto_tree_height_single_ISCE.py    ls_deltaSC.py\n",
            "auto_tree_height_single_ROIPAC.py  mean_wo_nan.py\n",
            "cal_error_metric_pairwise.py\t   preview.jpg\n",
            "cal_error_metric.py\t\t   read_geo_data.py\n",
            "cal_error_metric_self.py\t   read_linkfile.py\n",
            "cal_KB_pairwise_new.py\t\t   README.md\n",
            "cal_KB.py\t\t\t   read_rsc_data.py\n",
            "cal_KB_self_new.py\t\t   remove_corr_bias.py\n",
            "create_mosaic.py\t\t   remove_nonforest.py\n",
            "CROP_ISCE.py\t\t\t   remove_outlier.py\n",
            "CROP_ROIPAC.py\t\t\t   scripts\n",
            "extract_scatterplot_density.py\t   write_deltaSC.py\n",
            "flag_scene_file.py\t\t   write_diff_height_map.py\n",
            "forest_stand_height.py\t\t   write_file_type.py\n",
            "intermediate_pairwise.py\t   write_mapfile_new.py\n"
          ],
          "name": "stdout"
        }
      ]
    },
    {
      "cell_type": "code",
      "metadata": {
        "id": "ySi9Kt9epHJ4",
        "colab_type": "code",
        "outputId": "c42982d4-c65c-46ab-90f0-13f11805d0ce",
        "colab": {
          "base_uri": "https://localhost:8080/",
          "height": 177
        }
      },
      "source": [
        "pip install simplekml"
      ],
      "execution_count": 0,
      "outputs": [
        {
          "output_type": "stream",
          "text": [
            "Collecting simplekml\n",
            "  Downloading https://files.pythonhosted.org/packages/62/88/feeb5ac5ae528c81daed9fe9864ec42496b80ffbcf83ac60bb6feb5b7f80/simplekml-1.3.1.tar.gz\n",
            "Building wheels for collected packages: simplekml\n",
            "  Building wheel for simplekml (setup.py) ... \u001b[?25l\u001b[?25hdone\n",
            "  Created wheel for simplekml: filename=simplekml-1.3.1-cp36-none-any.whl size=51047 sha256=167c22e6585b52bf7d034f87ecdddffa1fe1806c9f5aa1df9de87dbcc855bdf5\n",
            "  Stored in directory: /root/.cache/pip/wheels/12/12/8f/9e22dd924dc3cedb41f9888379000713e980478437af610d0e\n",
            "Successfully built simplekml\n",
            "Installing collected packages: simplekml\n",
            "Successfully installed simplekml-1.3.1\n"
          ],
          "name": "stdout"
        }
      ]
    },
    {
      "cell_type": "code",
      "metadata": {
        "id": "G0eZnrHZvMSD",
        "colab_type": "code",
        "outputId": "7f8618d1-f978-4fd4-95e9-2ac9e984397c",
        "colab": {
          "base_uri": "https://localhost:8080/",
          "height": 372
        }
      },
      "source": [
        "#%cd /content/FSH_Python3/\n",
        "#!ls"
      ],
      "execution_count": 0,
      "outputs": [
        {
          "output_type": "stream",
          "text": [
            "/content/FSH_Python3\n",
            "arc_sinc.py\t\t\t   intermediate.py\n",
            "auto_mosaicking_new.py\t\t   intermediate_self.py\n",
            "auto_tree_height_many.py\t   LICENSE\n",
            "auto_tree_height_single_ISCE.py    ls_deltaSC.py\n",
            "auto_tree_height_single_ROIPAC.py  mean_wo_nan.py\n",
            "cal_error_metric_pairwise.py\t   preview.jpg\n",
            "cal_error_metric.py\t\t   __pycache__\n",
            "cal_error_metric_self.py\t   read_geo_data.py\n",
            "cal_KB_pairwise_new.py\t\t   read_linkfile.py\n",
            "cal_KB.py\t\t\t   README.md\n",
            "cal_KB_self_new.py\t\t   read_rsc_data.py\n",
            "create_mosaic.py\t\t   remove_corr_bias.py\n",
            "CROP_ISCE.py\t\t\t   remove_nonforest.py\n",
            "CROP_ROIPAC.py\t\t\t   remove_outlier.py\n",
            "extract_scatterplot_density.py\t   scripts\n",
            "flag_scene_file.py\t\t   write_deltaSC.py\n",
            "forest_stand_height.py\t\t   write_diff_height_map.py\n",
            "FSH_data\t\t\t   write_file_type.py\n",
            "intermediate_pairwise.py\t   write_mapfile_new.py\n"
          ],
          "name": "stdout"
        }
      ]
    },
    {
      "cell_type": "code",
      "metadata": {
        "id": "jjWQLe5Ao-_f",
        "colab_type": "code",
        "outputId": "d4198cdc-9bb3-4ac2-ee95-829ec8ba2810",
        "colab": {
          "base_uri": "https://localhost:8080/",
          "height": 321
        }
      },
      "source": [
        " !python /content/FSH_Python3/forest_stand_height.py 3 2 2 5 \"linkfile.txt\" \"flagfile.txt\" \"Howland_LVIS_NaN.tif\" \"Maine_NLCD2011_nonwildland.tif\" /content/FSH_data/ \"gif json kml mat tif\" --flag_diff=1 --flag_error=1  --flag_proc=1"
      ],
      "execution_count": 0,
      "outputs": [
        {
          "output_type": "stream",
          "text": [
            "\n",
            "\n",
            "Namespace(N_pairwise=20, N_self=10, Nd_pairwise=20, Nd_self=10, bin_size=100, edges=2, file_directory='/content/FSH_data/', filetypes='gif json kml mat tif', flag_diff=1, flag_error=1, flag_grad=0, flag_proc=1, flag_sparse=0, flagfile='flagfile.txt', iterations=5, linkfilename='linkfile.txt', maskfile='Maine_NLCD2011_nonwildland.tif', noiselevel=0.0, numLooks=20, ref_file='Howland_LVIS_NaN.tif', scenes=3, start_scene=2)\n",
            "\n",
            "\n",
            "01:22:53\n",
            "Traceback (most recent call last):\n",
            "  File \"/content/FSH_Python3/forest_stand_height.py\", line 121, in <module>\n",
            "    forest_stand_height(args.scenes, args.edges, args.start_scene, args.iterations, args.linkfilename, args.flagfile, args.ref_file, args.maskfile, args.file_directory, args.filetypes.strip().split(\" \"), args.Nd_pairwise, args.Nd_self, args.N_pairwise, args.N_self, args.bin_size, args.flag_sparse, args.flag_diff, args.flag_error, args.numLooks, args.noiselevel, args.flag_proc, args.flag_grad)\n",
            "  File \"/content/FSH_Python3/forest_stand_height.py\", line 47, in forest_stand_height\n",
            "    athm.auto_tree_height_many(scenes, flagfile, file_directory, numLooks, noiselevel, flag_proc, flag_grad)\n",
            "  File \"/content/FSH_Python3/auto_tree_height_many.py\", line 40, in auto_tree_height_many\n",
            "    file_data = athsI.auto_tree_height_single_ISCE(directory + image_folder, scene_data[2], scene_data[3], numLooks, noiselevel, flag_grad)\n",
            "  File \"/content/FSH_Python3/auto_tree_height_single_ISCE.py\", line 28, in auto_tree_height_single_ISCE\n",
            "    range_pixel_res = float(string.split(strg)[-1])\n",
            "AttributeError: module 'string' has no attribute 'split'\n"
          ],
          "name": "stdout"
        }
      ]
    }
  ]
}